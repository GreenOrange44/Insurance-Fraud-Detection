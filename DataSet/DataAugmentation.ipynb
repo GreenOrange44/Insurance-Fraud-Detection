{
  "nbformat": 4,
  "nbformat_minor": 0,
  "metadata": {
    "colab": {
      "provenance": [],
      "authorship_tag": "ABX9TyPu4WvR1cVVMZOn3g/ncTjf",
      "include_colab_link": true
    },
    "kernelspec": {
      "name": "python3",
      "display_name": "Python 3"
    },
    "language_info": {
      "name": "python"
    }
  },
  "cells": [
    {
      "cell_type": "markdown",
      "metadata": {
        "id": "view-in-github",
        "colab_type": "text"
      },
      "source": [
        "<a href=\"https://colab.research.google.com/github/GreenOrange44/Insurance-Fraud-Detection/blob/main/DataSet/DataAugmentation.ipynb\" target=\"_parent\"><img src=\"https://colab.research.google.com/assets/colab-badge.svg\" alt=\"Open In Colab\"/></a>"
      ]
    },
    {
      "cell_type": "code",
      "execution_count": null,
      "metadata": {
        "colab": {
          "base_uri": "https://localhost:8080/"
        },
        "id": "zAi54PEQcCFm",
        "outputId": "b2e6fc2b-6647-4720-d5f8-6a01ca3567d7"
      },
      "outputs": [
        {
          "output_type": "stream",
          "name": "stdout",
          "text": [
            "Original dataset size: 5518\n",
            "Augmented dataset size: 11542\n"
          ]
        }
      ],
      "source": [
        "import pandas as pd\n",
        "import numpy as np\n",
        "from sklearn.model_selection import train_test_split\n",
        "from imblearn.over_sampling import SMOTE\n",
        "from sklearn.preprocessing import LabelEncoder\n",
        "from sklearn.impute import SimpleImputer\n",
        "from sklearn.preprocessing import StandardScaler\n",
        "\n",
        "# Load the dataset\n",
        "# Assuming your dataset is in a DataFrame called 'df'\n",
        "# Replace with your dataset file if needed\n",
        "# df = pd.read_csv('your_dataset.csv')\n",
        "\n",
        "# Separate features and target\n",
        "\n",
        "\n",
        "df = pd.read_csv('augmented_dataset3.csv')\n",
        "\n",
        "X = df.drop(['fraud_reported'], axis=1)\n",
        "y = df['fraud_reported']\n",
        "\n",
        "# Feature augmentation functions\n",
        "def add_noise(data, columns, noise_level=0.05):\n",
        "    \"\"\"\n",
        "    Add Gaussian noise to numerical columns.\n",
        "    \"\"\"\n",
        "    for column in columns:\n",
        "        noise = np.random.normal(0, noise_level * data[column].std(), len(data))\n",
        "        data[column] += noise\n",
        "    return data\n",
        "\n",
        "def augment_categorical(data, column, values_to_swap, swap_prob=0.1):\n",
        "    \"\"\"\n",
        "    Augment categorical features by swapping randomly with other values.\n",
        "    \"\"\"\n",
        "    data[column] = data[column].apply(\n",
        "        lambda x: np.random.choice(values_to_swap) if np.random.rand() < swap_prob else x\n",
        "    )\n",
        "    return data\n",
        "numerical_features = ['age', 'policy_annual_premium', 'total_claim_amount', 'injury_claim', 'property_claim', 'vehicle_claim']\n",
        "df = add_noise(df, numerical_features)\n",
        "\n",
        "# Oversample using SMOTE\n",
        "from imblearn.over_sampling import SMOTE\n",
        "smote = SMOTE(random_state=42)\n",
        "X_resampled, y_resampled = smote.fit_resample(X, y)\n",
        "\n",
        "# Combine oversampled data back into a DataFrame\n",
        "augmented_data = pd.DataFrame(X_resampled, columns=X.columns)\n",
        "augmented_data['fraud_reported'] = y_resampled\n",
        "\n",
        "# Merge the original dataset with the new augmented data (ensure unique rows)\n",
        "final_dataset = pd.concat([df, augmented_data]).drop_duplicates().reset_index(drop=True)\n",
        "\n",
        "\n",
        "# Save the augmented dataset to a file\n",
        "final_dataset.to_csv('augmented_dataset4.csv', index=False)\n",
        "\n",
        "print(\"Original dataset size:\", len(df))\n",
        "print(\"Augmented dataset size:\", len(final_dataset))"
      ]
    }
  ]
}